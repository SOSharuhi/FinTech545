{
 "cells": [
  {
   "cell_type": "markdown",
   "metadata": {},
   "source": [
    "### Haonan Xu\n",
    "### FinTech 545 - Week 2 Homework"
   ]
  },
  {
   "cell_type": "code",
   "execution_count": 1,
   "metadata": {},
   "outputs": [],
   "source": [
    "import numpy as np\n",
    "import pandas as pd\n",
    "from scipy import stats\n",
    "from scipy.optimize import minimize\n",
    "import statsmodels.api as sm\n",
    "from statsmodels.tsa.arima.model import ARIMA\n",
    "import matplotlib.pyplot as plt"
   ]
  },
  {
   "cell_type": "markdown",
   "metadata": {},
   "source": [
    "### Problem 1\n",
    "\n",
    "#### (a)"
   ]
  },
  {
   "cell_type": "code",
   "execution_count": 2,
   "metadata": {},
   "outputs": [],
   "source": [
    "# import problem1.csv\n",
    "df = pd.read_csv(\"problem1.csv\")\n",
    "x_data = df.to_numpy().flatten()\n",
    "\n",
    "# a. \n",
    "# calculate first 4 moments using normalized formula\n",
    "\n",
    "def first4Moments(sample):\n",
    "\n",
    "    n = len(sample)\n",
    "    # mean\n",
    "    mu_hat = sum(sample)/n\n",
    "\n",
    "    # remove the mean from the sample\n",
    "    sim_corrected = sample - mu_hat\n",
    "    \n",
    "    # variance (not bias adjusted)\n",
    "    sigma_2 = sum(sim_corrected * sim_corrected) / n\n",
    "\n",
    "    # sample variance\n",
    "    # sigma_2_hat = sum(sim_corrected * sim_corrected) / (n-1)\n",
    "\n",
    "    # skewness\n",
    "    skew_hat = sum(sim_corrected ** 3) / n / np.sqrt(sigma_2 ** 3)\n",
    "\n",
    "    # kurtosis\n",
    "    kurt_hat = sum(sim_corrected ** 4) / n / np.sqrt(sigma_2 ** 4)\n",
    "\n",
    "    excess_kurt_hat = kurt_hat - 3\n",
    "    \n",
    "    return mu_hat, sigma_2, skew_hat, excess_kurt_hat\n",
    "\n",
    "# first 4 moments of x data\n",
    "mu, sigma_2, skew, kurt = first4Moments(x_data)"
   ]
  },
  {
   "cell_type": "markdown",
   "metadata": {},
   "source": [
    "#### (b)"
   ]
  },
  {
   "cell_type": "code",
   "execution_count": 3,
   "metadata": {},
   "outputs": [
    {
     "data": {
      "text/html": [
       "<div>\n",
       "<style scoped>\n",
       "    .dataframe tbody tr th:only-of-type {\n",
       "        vertical-align: middle;\n",
       "    }\n",
       "\n",
       "    .dataframe tbody tr th {\n",
       "        vertical-align: top;\n",
       "    }\n",
       "\n",
       "    .dataframe thead th {\n",
       "        text-align: right;\n",
       "    }\n",
       "</style>\n",
       "<table border=\"1\" class=\"dataframe\">\n",
       "  <thead>\n",
       "    <tr style=\"text-align: right;\">\n",
       "      <th></th>\n",
       "      <th>Method</th>\n",
       "      <th>mena</th>\n",
       "      <th>variance</th>\n",
       "      <th>skewness</th>\n",
       "      <th>kurtosis</th>\n",
       "    </tr>\n",
       "  </thead>\n",
       "  <tbody>\n",
       "    <tr>\n",
       "      <th>0</th>\n",
       "      <td>Formula</td>\n",
       "      <td>1.048970e+00</td>\n",
       "      <td>5.421793e+00</td>\n",
       "      <td>8.806086e-01</td>\n",
       "      <td>2.312220e+01</td>\n",
       "    </tr>\n",
       "    <tr>\n",
       "      <th>1</th>\n",
       "      <td>Package</td>\n",
       "      <td>1.048970e+00</td>\n",
       "      <td>5.421793e+00</td>\n",
       "      <td>8.806086e-01</td>\n",
       "      <td>2.312220e+01</td>\n",
       "    </tr>\n",
       "    <tr>\n",
       "      <th>2</th>\n",
       "      <td>Difference</td>\n",
       "      <td>-2.220446e-16</td>\n",
       "      <td>-1.776357e-15</td>\n",
       "      <td>1.221245e-15</td>\n",
       "      <td>-3.552714e-15</td>\n",
       "    </tr>\n",
       "  </tbody>\n",
       "</table>\n",
       "</div>"
      ],
      "text/plain": [
       "       Method          mena      variance      skewness      kurtosis\n",
       "0     Formula  1.048970e+00  5.421793e+00  8.806086e-01  2.312220e+01\n",
       "1     Package  1.048970e+00  5.421793e+00  8.806086e-01  2.312220e+01\n",
       "2  Difference -2.220446e-16 -1.776357e-15  1.221245e-15 -3.552714e-15"
      ]
     },
     "execution_count": 3,
     "metadata": {},
     "output_type": "execute_result"
    }
   ],
   "source": [
    "# b.\n",
    "# calculate first 4 moments by statistical package\n",
    "mu_stat = np.mean(x_data)\n",
    "sigma_2_stat = np.var(x_data)\n",
    "skew_stat = stats.skew(x_data)\n",
    "kurt_stat = stats.kurtosis(x_data)\n",
    "\n",
    "# print the measures to compare\n",
    "pd.DataFrame(data = {\n",
    "    \"Method\": [\"Formula\", \"Package\", \"Difference\"],\n",
    "    \"mena\": [mu, mu_stat, mu - mu_stat],\n",
    "    \"variance\": [sigma_2, sigma_2_stat, sigma_2 - sigma_2_stat],\n",
    "    \"skewness\": [skew, skew_stat, skew - skew_stat],\n",
    "    \"kurtosis\": [kurt, kurt_stat, kurt - kurt_stat]\n",
    "})"
   ]
  },
  {
   "cell_type": "markdown",
   "metadata": {},
   "source": [
    "#### (c)"
   ]
  },
  {
   "cell_type": "code",
   "execution_count": 4,
   "metadata": {},
   "outputs": [
    {
     "data": {
      "text/html": [
       "<div>\n",
       "<style scoped>\n",
       "    .dataframe tbody tr th:only-of-type {\n",
       "        vertical-align: middle;\n",
       "    }\n",
       "\n",
       "    .dataframe tbody tr th {\n",
       "        vertical-align: top;\n",
       "    }\n",
       "\n",
       "    .dataframe thead th {\n",
       "        text-align: right;\n",
       "    }\n",
       "</style>\n",
       "<table border=\"1\" class=\"dataframe\">\n",
       "  <thead>\n",
       "    <tr style=\"text-align: right;\">\n",
       "      <th></th>\n",
       "      <th></th>\n",
       "      <th>mean</th>\n",
       "      <th>variance</th>\n",
       "      <th>skewness</th>\n",
       "      <th>kurtosis</th>\n",
       "    </tr>\n",
       "  </thead>\n",
       "  <tbody>\n",
       "    <tr>\n",
       "      <th>0</th>\n",
       "      <td>unbiased estimate</td>\n",
       "      <td>0.000000</td>\n",
       "      <td>1.000000</td>\n",
       "      <td>0.000000</td>\n",
       "      <td>0.000000</td>\n",
       "    </tr>\n",
       "    <tr>\n",
       "      <th>1</th>\n",
       "      <td>t stat</td>\n",
       "      <td>1.705556</td>\n",
       "      <td>-3.056501</td>\n",
       "      <td>-1.003092</td>\n",
       "      <td>-3.134240</td>\n",
       "    </tr>\n",
       "    <tr>\n",
       "      <th>2</th>\n",
       "      <td>p-value</td>\n",
       "      <td>0.088402</td>\n",
       "      <td>0.002299</td>\n",
       "      <td>0.316059</td>\n",
       "      <td>0.001773</td>\n",
       "    </tr>\n",
       "  </tbody>\n",
       "</table>\n",
       "</div>"
      ],
      "text/plain": [
       "                          mean  variance  skewness  kurtosis\n",
       "0  unbiased estimate  0.000000  1.000000  0.000000  0.000000\n",
       "1             t stat  1.705556 -3.056501 -1.003092 -3.134240\n",
       "2            p-value  0.088402  0.002299  0.316059  0.001773"
      ]
     },
     "execution_count": 4,
     "metadata": {},
     "output_type": "execute_result"
    }
   ],
   "source": [
    "# c. \n",
    "# test \n",
    "\n",
    "# number of trials\n",
    "samples = 1000\n",
    "# sample size\n",
    "n = 100\n",
    "# empty array to hold estimate samples\n",
    "mu = []\n",
    "sigma_2 = []\n",
    "skew = []\n",
    "kurt = []\n",
    "# simulation\n",
    "for i in range(samples):\n",
    "    data = np.random.normal(0, 1, n)\n",
    "    mu.append(np.mean(data))\n",
    "    sigma_2.append(np.var(data))\n",
    "    skew.append(stats.skew(data))\n",
    "    kurt.append(stats.kurtosis(data))\n",
    "    \n",
    "# t-test function against theoretical value\n",
    "def ttest(est, est0):\n",
    "    t = (np.mean(est) - est0) / np.sqrt(np.var(est)/len(est))\n",
    "    p = 2 * (1 - stats.t.cdf(np.abs(t), len(est)-1))\n",
    "    \n",
    "    return t,p\n",
    "\n",
    "t_mu, p_mu = ttest(mu, 0)\n",
    "t_sigma, p_sigma = ttest(sigma_2, 1)\n",
    "t_skew, p_skew = ttest(skew, 0)\n",
    "t_kurt, p_kurt = ttest(kurt, 0)\n",
    "\n",
    "pd.DataFrame(data = {\n",
    "    \" \": [\"unbiased estimate\", \"t stat\", \"p-value\"],\n",
    "    \"mean\": [0, t_mu, p_mu],\n",
    "    \"variance\": [1, t_sigma, p_sigma],\n",
    "    \"skewness\": [0, t_skew, p_skew],\n",
    "    \"kurtosis\": [0, t_kurt, p_kurt]\n",
    "})\n"
   ]
  },
  {
   "cell_type": "markdown",
   "metadata": {},
   "source": [
    "### Problem 2\n",
    "\n",
    "#### (a)"
   ]
  },
  {
   "cell_type": "code",
   "execution_count": 5,
   "metadata": {},
   "outputs": [
    {
     "name": "stdout",
     "output_type": "stream",
     "text": [
      "                            OLS Regression Results                            \n",
      "==============================================================================\n",
      "Dep. Variable:                      y   R-squared:                       0.346\n",
      "Model:                            OLS   Adj. R-squared:                  0.342\n",
      "Method:                 Least Squares   F-statistic:                     104.6\n",
      "Date:                Fri, 26 Jan 2024   Prob (F-statistic):           5.59e-20\n",
      "Time:                        12:02:55   Log-Likelihood:                -284.54\n",
      "No. Observations:                 200   AIC:                             573.1\n",
      "Df Residuals:                     198   BIC:                             579.7\n",
      "Df Model:                           1                                         \n",
      "Covariance Type:            nonrobust                                         \n",
      "==============================================================================\n",
      "                 coef    std err          t      P>|t|      [0.025      0.975]\n",
      "------------------------------------------------------------------------------\n",
      "const         -0.0874      0.071     -1.222      0.223      -0.228       0.054\n",
      "x1             0.7753      0.076     10.226      0.000       0.626       0.925\n",
      "==============================================================================\n",
      "Omnibus:                       11.922   Durbin-Watson:                   2.023\n",
      "Prob(Omnibus):                  0.003   Jarque-Bera (JB):               16.685\n",
      "Skew:                           0.387   Prob(JB):                     0.000238\n",
      "Kurtosis:                       4.184   Cond. No.                         1.09\n",
      "==============================================================================\n",
      "\n",
      "Notes:\n",
      "[1] Standard Errors assume that the covariance matrix of the errors is correctly specified.\n"
     ]
    }
   ],
   "source": [
    "# import problem2.csv\n",
    "# use LinearRegression()\n",
    "df = pd.read_csv(\"problem2.csv\")\n",
    "X = df[\"x\"].to_numpy()\n",
    "X = np.column_stack((np.ones(len(X)), X))\n",
    "\n",
    "Y = df[\"y\"].to_numpy().flatten()\n",
    "model = sm.OLS(Y, X).fit()\n",
    "print(model.summary())"
   ]
  },
  {
   "cell_type": "code",
   "execution_count": 6,
   "metadata": {},
   "outputs": [
    {
     "data": {
      "text/plain": [
       "0.3456068835648127"
      ]
     },
     "execution_count": 6,
     "metadata": {},
     "output_type": "execute_result"
    },
    {
     "data": {
      "image/png": "[encoded data removed]",
      "text/plain": [
       "<Figure size 360x360 with 1 Axes>"
      ]
     },
     "metadata": {
      "needs_background": "light"
     },
     "output_type": "display_data"
    }
   ],
   "source": [
    "X1 = df[\"x\"].to_numpy()\n",
    "plt.figure(figsize = (5,5))\n",
    "plt.scatter(X1, Y)\n",
    "plt.xlim(-5.5,5.5)\n",
    "plt.ylim(-5.5,5.5)\n",
    "\n",
    "# correlation\n",
    "cor = np.corrcoef([X1,Y], rowvar=True)\n",
    "cor[1,0] ** 2"
   ]
  },
  {
   "cell_type": "code",
   "execution_count": 7,
   "metadata": {},
   "outputs": [
    {
     "name": "stdout",
     "output_type": "stream",
     "text": [
      "                            OLS Regression Results                            \n",
      "==============================================================================\n",
      "Dep. Variable:                      y   R-squared:                       0.346\n",
      "Model:                            OLS   Adj. R-squared:                  0.342\n",
      "Method:                 Least Squares   F-statistic:                     104.6\n",
      "Date:                Fri, 26 Jan 2024   Prob (F-statistic):           5.59e-20\n",
      "Time:                        12:02:55   Log-Likelihood:                -284.54\n",
      "No. Observations:                 200   AIC:                             573.1\n",
      "Df Residuals:                     198   BIC:                             579.7\n",
      "Df Model:                           1                                         \n",
      "Covariance Type:            nonrobust                                         \n",
      "==============================================================================\n",
      "                 coef    std err          t      P>|t|      [0.025      0.975]\n",
      "------------------------------------------------------------------------------\n",
      "const         -0.0874      0.071     -1.222      0.223      -0.228       0.054\n",
      "x1             0.7753      0.076     10.226      0.000       0.626       0.925\n",
      "==============================================================================\n",
      "Omnibus:                       11.922   Durbin-Watson:                   2.023\n",
      "Prob(Omnibus):                  0.003   Jarque-Bera (JB):               16.685\n",
      "Skew:                           0.387   Prob(JB):                     0.000238\n",
      "Kurtosis:                       4.184   Cond. No.                         1.09\n",
      "==============================================================================\n",
      "\n",
      "Notes:\n",
      "[1] Standard Errors assume that the covariance matrix of the errors is correctly specified.\n",
      "OLS Beta:   [-0.08738446  0.7752741 ]\n",
      "OLS Sigma:  1.003756319417732\n",
      "Optimization terminated successfully.\n",
      "         Current function value: 284.537563\n",
      "         Iterations: 13\n",
      "         Function evaluations: 76\n",
      "         Gradient evaluations: 19\n",
      "MLE Beta:   [-0.0873844712551101, 0.7752740944550548]\n",
      "MLE Sigma:  1.0037563182694507\n"
     ]
    }
   ],
   "source": [
    "# a.\n",
    "# Fit the data using OLS.\n",
    "# beta_ols = np.linalg.inv(X.T @ X) @ X.T @ Y\n",
    "model = sm.OLS(Y, X).fit()\n",
    "beta_ols = model.params\n",
    "print(model.summary())\n",
    "print(\"OLS Beta:  \", beta_ols)\n",
    "\n",
    "# epsilon = Y - X @ beta_ols\n",
    "epsilon = model.resid\n",
    "sigma_ols = np.std(epsilon)\n",
    "print(\"OLS Sigma: \", sigma_ols)\n",
    "\n",
    "# Fit the data using MLE\n",
    "# define likelihood function under normality assumption\n",
    "def ll_n(params):\n",
    "    s = params[0]\n",
    "    b = params[1:]\n",
    "    n = len(Y)\n",
    "    e = Y - np.dot(X, b)\n",
    "    s2 = s * s\n",
    "    # log likelihood of n\n",
    "    ll = -n / 2 * np.log(s2 * 2 * np.pi) - np.dot(e, e) / (2 * s2)\n",
    "    return -ll  # return negative ll because we minimize\n",
    "\n",
    "res = minimize(ll_n, [1,0,0], options={\"disp\": True})\n",
    "sigma_mle, *beta_mle = res.x\n",
    "print(\"MLE Beta:  \", beta_mle)\n",
    "print(\"MLE Sigma: \", sigma_mle)"
   ]
  },
  {
   "cell_type": "code",
   "execution_count": 8,
   "metadata": {},
   "outputs": [
    {
     "name": "stdout",
     "output_type": "stream",
     "text": [
      "Adjusted R^2: 0.3423018678252412\n"
     ]
    }
   ],
   "source": [
    "# adjusted R^2 for normal\n",
    "def adj_R2(beta_mle):\n",
    "    rr = Y - np.dot(X, beta_mle)\n",
    "    SSR = np.dot(rr, rr)\n",
    "    tt = Y - np.mean(Y)\n",
    "    SST = np.dot(tt, tt)\n",
    "    R_square = 1 - SSR / SST\n",
    "\n",
    "    n = len(Y)\n",
    "    p = 1\n",
    "    R_square_adj = 1 - ((1 - R_square)*(n-1)/(n-p-1))\n",
    "    \n",
    "    return R_square_adj\n",
    "\n",
    "print(\"Adjusted R^2:\", adj_R2(beta_mle))"
   ]
  },
  {
   "cell_type": "markdown",
   "metadata": {},
   "source": [
    "#### (b)"
   ]
  },
  {
   "cell_type": "code",
   "execution_count": 9,
   "metadata": {},
   "outputs": [
    {
     "name": "stdout",
     "output_type": "stream",
     "text": [
      "Optimization terminated successfully.\n",
      "         Current function value: 281.293403\n",
      "         Iterations: 19\n",
      "         Function evaluations: 115\n",
      "         Gradient evaluations: 23\n",
      "MLE Beta:   [-0.0972694218123758, 0.6750091062888176]\n",
      "MLE Sigma:  0.8551037051346911\n"
     ]
    }
   ],
   "source": [
    "# b.\n",
    "# define likelihood function under T assumption\n",
    "def ll_t(params):\n",
    "    df = params[0]\n",
    "    s = params[1]\n",
    "    b = params[2:]\n",
    "    e = Y - np.dot(X, b)\n",
    "    # log likelihood of t: sum of pdf under t distribution\n",
    "    ll = np.sum(stats.t.logpdf(e, df=df, loc=0, scale=s))\n",
    "    # ll = np.sum(stats.t.logpdf(e, df=df))\n",
    "    return -ll # return negative ll because we minimize\n",
    "\n",
    "res = minimize(ll_t, [1,1,0,0], options={\"disp\": True})\n",
    "df_mle, sigma_mle, *beta_mle = res.x\n",
    "# print(\"MLE DF:    \", df_mle)\n",
    "print(\"MLE Beta:  \", beta_mle)\n",
    "print(\"MLE Sigma: \", sigma_mle)"
   ]
  },
  {
   "cell_type": "code",
   "execution_count": 10,
   "metadata": {},
   "outputs": [
    {
     "name": "stdout",
     "output_type": "stream",
     "text": [
      "Adjusted R^2: 0.33631962144512395\n"
     ]
    }
   ],
   "source": [
    "# adjusted R^2 for T\n",
    "print(\"Adjusted R^2:\", adj_R2(beta_mle))"
   ]
  },
  {
   "cell_type": "markdown",
   "metadata": {},
   "source": [
    "#### (c)"
   ]
  },
  {
   "cell_type": "code",
   "execution_count": 11,
   "metadata": {},
   "outputs": [
    {
     "data": {
      "image/png": "[encoded data removed]",
      "text/plain": [
       "<Figure size 720x432 with 1 Axes>"
      ]
     },
     "metadata": {
      "needs_background": "light"
     },
     "output_type": "display_data"
    }
   ],
   "source": [
    "# c.\n",
    "# import problem2_x.csv and problem2_x1.csv\n",
    "df_x = pd.read_csv(\"problem2_x.csv\")\n",
    "# full [X_1, X_2]\n",
    "X = df_x.to_numpy()\n",
    "\n",
    "df_x1 = pd.read_csv(\"problem2_x1.csv\")\n",
    "# observed X_1\n",
    "X1_obs = df_x1.to_numpy()\n",
    "\n",
    "# mean of X\n",
    "mu = np.mean(X, axis=0)\n",
    "# covariance of X\n",
    "cov = np.cov(X, rowvar=False)\n",
    "\n",
    "# Conditional distribution of X2 given X1\n",
    "# Extract mean and covariance for each dimension\n",
    "mu_1, mu_2 = mu\n",
    "cov_11, cov_12, cov_21, cov_22 = cov.flatten()\n",
    "\n",
    "# Calculate conditional means and variances for X2 given observed X1\n",
    "conditional_means = mu_2 + cov_21 / cov_11 * (X1_obs - mu_1)\n",
    "conditional_variances = cov_22 - cov_21**2 / cov_11\n",
    "\n",
    "# Calculate 95% confidence intervals\n",
    "ci_95 = 1.96 * np.sqrt(conditional_variances)\n",
    "\n",
    "plot_data = pd.DataFrame({\n",
    "    'X1_observed': X1_obs.flatten(),\n",
    "    'Expected_X2': conditional_means.flatten(),\n",
    "    'Lower_CI': conditional_means.flatten() - ci_95,\n",
    "    'Upper_CI': conditional_means.flatten() + ci_95\n",
    "})\n",
    "\n",
    "# Plot the expected value of X2 along with the 95% confidence interval\n",
    "plt.figure(figsize=(10, 6))\n",
    "plt.scatter(plot_data['X1_observed'], plot_data['Expected_X2'], color='blue', label='Expected X2')\n",
    "plt.fill_between(plot_data['X1_observed'], plot_data['Lower_CI'], plot_data['Upper_CI'], color='gray', alpha=0.5, label='95% Confidence Interval')\n",
    "plt.xlabel('Observed X1')\n",
    "plt.ylabel('Expected X2')\n",
    "plt.title('Expected X2 Given X1 with 95% Confidence Interval')\n",
    "plt.legend()\n",
    "plt.grid(True)\n",
    "plt.show()"
   ]
  },
  {
   "cell_type": "markdown",
   "metadata": {},
   "source": [
    "### Problem 3"
   ]
  },
  {
   "cell_type": "code",
   "execution_count": 12,
   "metadata": {},
   "outputs": [
    {
     "name": "stdout",
     "output_type": "stream",
     "text": [
      "                               SARIMAX Results                                \n",
      "==============================================================================\n",
      "Dep. Variable:                      y   No. Observations:                  500\n",
      "Model:                 ARIMA(1, 0, 0)   Log Likelihood                -819.328\n",
      "Date:                Fri, 26 Jan 2024   AIC                           1644.656\n",
      "Time:                        12:02:57   BIC                           1657.299\n",
      "Sample:                             0   HQIC                          1649.617\n",
      "                                - 500                                         \n",
      "Covariance Type:                  opg                                         \n",
      "==============================================================================\n",
      "                 coef    std err          z      P>|z|      [0.025      0.975]\n",
      "------------------------------------------------------------------------------\n",
      "const          2.1258      0.070     30.473      0.000       1.989       2.263\n",
      "ar.L1          0.2019      0.045      4.512      0.000       0.114       0.290\n",
      "sigma2         1.5517      0.105     14.743      0.000       1.345       1.758\n",
      "===================================================================================\n",
      "Ljung-Box (L1) (Q):                   2.51   Jarque-Bera (JB):                 1.42\n",
      "Prob(Q):                              0.11   Prob(JB):                         0.49\n",
      "Heteroskedasticity (H):               1.37   Skew:                            -0.00\n",
      "Prob(H) (two-sided):                  0.04   Kurtosis:                         2.74\n",
      "===================================================================================\n",
      "\n",
      "Warnings:\n",
      "[1] Covariance matrix calculated using the outer product of gradients (complex-step).\n"
     ]
    }
   ],
   "source": [
    "# import problem3.csv\n",
    "df = pd.read_csv(\"problem3.csv\")\n",
    "X = df[\"x\"].to_numpy().flatten()\n",
    "\n",
    "# AR(1)\n",
    "model = ARIMA(X, order=(1, 0, 0))\n",
    "results = model.fit()\n",
    "print(results.summary())"
   ]
  },
  {
   "cell_type": "code",
   "execution_count": 13,
   "metadata": {},
   "outputs": [
    {
     "name": "stdout",
     "output_type": "stream",
     "text": [
      "                               SARIMAX Results                                \n",
      "==============================================================================\n",
      "Dep. Variable:                      y   No. Observations:                  500\n",
      "Model:                 ARIMA(2, 0, 0)   Log Likelihood                -786.540\n",
      "Date:                Fri, 26 Jan 2024   AIC                           1581.079\n",
      "Time:                        12:02:57   BIC                           1597.938\n",
      "Sample:                             0   HQIC                          1587.694\n",
      "                                - 500                                         \n",
      "Covariance Type:                  opg                                         \n",
      "==============================================================================\n",
      "                 coef    std err          z      P>|z|      [0.025      0.975]\n",
      "------------------------------------------------------------------------------\n",
      "const          2.1270      0.049     43.663      0.000       2.032       2.222\n",
      "ar.L1          0.2732      0.042      6.486      0.000       0.191       0.356\n",
      "ar.L2         -0.3505      0.043     -8.068      0.000      -0.436      -0.265\n",
      "sigma2         1.3603      0.094     14.455      0.000       1.176       1.545\n",
      "===================================================================================\n",
      "Ljung-Box (L1) (Q):                  15.51   Jarque-Bera (JB):                 3.12\n",
      "Prob(Q):                              0.00   Prob(JB):                         0.21\n",
      "Heteroskedasticity (H):               1.20   Skew:                            -0.11\n",
      "Prob(H) (two-sided):                  0.24   Kurtosis:                         2.68\n",
      "===================================================================================\n",
      "\n",
      "Warnings:\n",
      "[1] Covariance matrix calculated using the outer product of gradients (complex-step).\n"
     ]
    }
   ],
   "source": [
    "# AR(2)\n",
    "model = ARIMA(X, order=(2, 0, 0))\n",
    "results = model.fit()\n",
    "print(results.summary())"
   ]
  },
  {
   "cell_type": "code",
   "execution_count": 14,
   "metadata": {},
   "outputs": [
    {
     "name": "stdout",
     "output_type": "stream",
     "text": [
      "                               SARIMAX Results                                \n",
      "==============================================================================\n",
      "Dep. Variable:                      y   No. Observations:                  500\n",
      "Model:                 ARIMA(3, 0, 0)   Log Likelihood                -713.330\n",
      "Date:                Fri, 26 Jan 2024   AIC                           1436.660\n",
      "Time:                        12:02:57   BIC                           1457.733\n",
      "Sample:                             0   HQIC                          1444.929\n",
      "                                - 500                                         \n",
      "Covariance Type:                  opg                                         \n",
      "==============================================================================\n",
      "                 coef    std err          z      P>|z|      [0.025      0.975]\n",
      "------------------------------------------------------------------------------\n",
      "const          2.1209      0.085     24.990      0.000       1.955       2.287\n",
      "ar.L1          0.4515      0.040     11.179      0.000       0.372       0.531\n",
      "ar.L2         -0.4887      0.037    -13.104      0.000      -0.562      -0.416\n",
      "ar.L3          0.5047      0.040     12.769      0.000       0.427       0.582\n",
      "sigma2         1.0132      0.068     14.939      0.000       0.880       1.146\n",
      "===================================================================================\n",
      "Ljung-Box (L1) (Q):                   0.02   Jarque-Bera (JB):                 0.84\n",
      "Prob(Q):                              0.90   Prob(JB):                         0.66\n",
      "Heteroskedasticity (H):               1.04   Skew:                            -0.03\n",
      "Prob(H) (two-sided):                  0.81   Kurtosis:                         2.81\n",
      "===================================================================================\n",
      "\n",
      "Warnings:\n",
      "[1] Covariance matrix calculated using the outer product of gradients (complex-step).\n"
     ]
    }
   ],
   "source": [
    "# AR(3)\n",
    "model = ARIMA(X, order=(3, 0, 0))\n",
    "results = model.fit()\n",
    "print(results.summary())"
   ]
  },
  {
   "cell_type": "code",
   "execution_count": 15,
   "metadata": {},
   "outputs": [
    {
     "name": "stdout",
     "output_type": "stream",
     "text": [
      "                               SARIMAX Results                                \n",
      "==============================================================================\n",
      "Dep. Variable:                      y   No. Observations:                  500\n",
      "Model:                 ARIMA(0, 0, 1)   Log Likelihood                -780.702\n",
      "Date:                Fri, 26 Jan 2024   AIC                           1567.404\n",
      "Time:                        12:02:57   BIC                           1580.047\n",
      "Sample:                             0   HQIC                          1572.365\n",
      "                                - 500                                         \n",
      "Covariance Type:                  opg                                         \n",
      "==============================================================================\n",
      "                 coef    std err          z      P>|z|      [0.025      0.975]\n",
      "------------------------------------------------------------------------------\n",
      "const          2.1236      0.085     25.028      0.000       1.957       2.290\n",
      "ma.L1          0.6434      0.034     18.847      0.000       0.577       0.710\n",
      "sigma2         1.3282      0.090     14.782      0.000       1.152       1.504\n",
      "===================================================================================\n",
      "Ljung-Box (L1) (Q):                  11.73   Jarque-Bera (JB):                 1.18\n",
      "Prob(Q):                              0.00   Prob(JB):                         0.55\n",
      "Heteroskedasticity (H):               1.39   Skew:                            -0.02\n",
      "Prob(H) (two-sided):                  0.04   Kurtosis:                         2.77\n",
      "===================================================================================\n",
      "\n",
      "Warnings:\n",
      "[1] Covariance matrix calculated using the outer product of gradients (complex-step).\n"
     ]
    }
   ],
   "source": [
    "# MA(1)\n",
    "model = ARIMA(X, order=(0, 0, 1))\n",
    "results = model.fit()\n",
    "print(results.summary())"
   ]
  },
  {
   "cell_type": "code",
   "execution_count": 16,
   "metadata": {},
   "outputs": [
    {
     "name": "stdout",
     "output_type": "stream",
     "text": [
      "                               SARIMAX Results                                \n",
      "==============================================================================\n",
      "Dep. Variable:                      y   No. Observations:                  500\n",
      "Model:                 ARIMA(0, 0, 2)   Log Likelihood                -764.971\n",
      "Date:                Fri, 26 Jan 2024   AIC                           1537.941\n",
      "Time:                        12:02:57   BIC                           1554.800\n",
      "Sample:                             0   HQIC                          1544.556\n",
      "                                - 500                                         \n",
      "Covariance Type:                  opg                                         \n",
      "==============================================================================\n",
      "                 coef    std err          z      P>|z|      [0.025      0.975]\n",
      "------------------------------------------------------------------------------\n",
      "const          2.1255      0.060     35.199      0.000       2.007       2.244\n",
      "ma.L1          0.4344      0.044      9.775      0.000       0.347       0.522\n",
      "ma.L2         -0.2306      0.047     -4.949      0.000      -0.322      -0.139\n",
      "sigma2         1.2473      0.086     14.558      0.000       1.079       1.415\n",
      "===================================================================================\n",
      "Ljung-Box (L1) (Q):                   0.02   Jarque-Bera (JB):                 1.67\n",
      "Prob(Q):                              0.88   Prob(JB):                         0.43\n",
      "Heteroskedasticity (H):               1.28   Skew:                            -0.03\n",
      "Prob(H) (two-sided):                  0.11   Kurtosis:                         2.72\n",
      "===================================================================================\n",
      "\n",
      "Warnings:\n",
      "[1] Covariance matrix calculated using the outer product of gradients (complex-step).\n"
     ]
    }
   ],
   "source": [
    "# MA(2)\n",
    "model = ARIMA(X, order=(0, 0, 2))\n",
    "results = model.fit()\n",
    "print(results.summary())"
   ]
  },
  {
   "cell_type": "code",
   "execution_count": 17,
   "metadata": {},
   "outputs": [
    {
     "name": "stdout",
     "output_type": "stream",
     "text": [
      "                               SARIMAX Results                                \n",
      "==============================================================================\n",
      "Dep. Variable:                      y   No. Observations:                  500\n",
      "Model:                 ARIMA(0, 0, 3)   Log Likelihood                -763.434\n",
      "Date:                Fri, 26 Jan 2024   AIC                           1536.868\n",
      "Time:                        12:02:57   BIC                           1557.941\n",
      "Sample:                             0   HQIC                          1545.137\n",
      "                                - 500                                         \n",
      "Covariance Type:                  opg                                         \n",
      "==============================================================================\n",
      "                 coef    std err          z      P>|z|      [0.025      0.975]\n",
      "------------------------------------------------------------------------------\n",
      "const          2.1259      0.059     35.880      0.000       2.010       2.242\n",
      "ma.L1          0.5582      0.045     12.333      0.000       0.469       0.647\n",
      "ma.L2         -0.2286      0.053     -4.308      0.000      -0.333      -0.125\n",
      "ma.L3         -0.1531      0.048     -3.216      0.001      -0.246      -0.060\n",
      "sigma2         1.2394      0.085     14.592      0.000       1.073       1.406\n",
      "===================================================================================\n",
      "Ljung-Box (L1) (Q):                   1.60   Jarque-Bera (JB):                 1.75\n",
      "Prob(Q):                              0.21   Prob(JB):                         0.42\n",
      "Heteroskedasticity (H):               1.25   Skew:                            -0.06\n",
      "Prob(H) (two-sided):                  0.15   Kurtosis:                         2.73\n",
      "===================================================================================\n",
      "\n",
      "Warnings:\n",
      "[1] Covariance matrix calculated using the outer product of gradients (complex-step).\n"
     ]
    }
   ],
   "source": [
    "# MA(3)\n",
    "model = ARIMA(X, order=(0, 0, 3))\n",
    "results = model.fit()\n",
    "print(results.summary())"
   ]
  }
 ],
 "metadata": {
  "kernelspec": {
   "display_name": "base",
   "language": "python",
   "name": "python3"
  },
  "language_info": {
   "codemirror_mode": {
    "name": "ipython",
    "version": 3
   },
   "file_extension": ".py",
   "mimetype": "text/x-python",
   "name": "python",
   "nbconvert_exporter": "python",
   "pygments_lexer": "ipython3",
   "version": "3.9.7"
  }
 },
 "nbformat": 4,
 "nbformat_minor": 2
}
